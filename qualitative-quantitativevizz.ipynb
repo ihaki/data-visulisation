{
 "cells": [
  {
   "cell_type": "code",
   "execution_count": 1,
   "id": "0cc3bfac",
   "metadata": {
    "execution": {
     "iopub.execute_input": "2022-05-26T11:21:51.446133Z",
     "iopub.status.busy": "2022-05-26T11:21:51.444868Z",
     "iopub.status.idle": "2022-05-26T11:21:52.696960Z",
     "shell.execute_reply": "2022-05-26T11:21:52.695860Z"
    },
    "papermill": {
     "duration": 1.260012,
     "end_time": "2022-05-26T11:21:52.699510",
     "exception": false,
     "start_time": "2022-05-26T11:21:51.439498",
     "status": "completed"
    },
    "tags": []
   },
   "outputs": [],
   "source": [
    "#importing libraries\n",
    "import pandas as pd\n",
    "import matplotlib.pyplot as plt\n",
    "import numpy as np\n",
    "import seaborn as sns\n"
   ]
  },
  {
   "cell_type": "code",
   "execution_count": 2,
   "id": "95e6d66d",
   "metadata": {
    "execution": {
     "iopub.execute_input": "2022-05-26T11:21:52.706367Z",
     "iopub.status.busy": "2022-05-26T11:21:52.706003Z",
     "iopub.status.idle": "2022-05-26T11:21:52.735653Z",
     "shell.execute_reply": "2022-05-26T11:21:52.734764Z"
    },
    "papermill": {
     "duration": 0.03589,
     "end_time": "2022-05-26T11:21:52.738174",
     "exception": false,
     "start_time": "2022-05-26T11:21:52.702284",
     "status": "completed"
    },
    "tags": []
   },
   "outputs": [],
   "source": [
    "\"\"\" importing and restructuring of the nutrition_elderly dataset\n",
    "'http://www.biostatisticien.eu/springeR/nutrition_elderly.xls' \"\"\"\n",
    "\n",
    "nutri = pd.read_csv('../input/elderly/nutrition_elderly (1).csv')\n",
    "dict = {1:'Single', 2 :'Couple', 3 : 'Family'} #the dictionary matches the numbers to categorical variables that they represent\n",
    "nutri['situation'] = nutri['situation'].replace(dict).astype('category') #replacing the numbers with categorical in the dataset"
   ]
  },
  {
   "cell_type": "code",
   "execution_count": 3,
   "id": "efb9ed35",
   "metadata": {
    "execution": {
     "iopub.execute_input": "2022-05-26T11:21:52.745856Z",
     "iopub.status.busy": "2022-05-26T11:21:52.744847Z",
     "iopub.status.idle": "2022-05-26T11:21:52.886425Z",
     "shell.execute_reply": "2022-05-26T11:21:52.885471Z"
    },
    "papermill": {
     "duration": 0.148497,
     "end_time": "2022-05-26T11:21:52.889163",
     "exception": false,
     "start_time": "2022-05-26T11:21:52.740666",
     "status": "completed"
    },
    "tags": []
   },
   "outputs": [
    {
     "data": {
      "image/png": "[encoded data removed]",
      "text/plain": [
       "<Figure size 432x288 with 1 Axes>"
      ]
     },
     "metadata": {
      "needs_background": "light"
     },
     "output_type": "display_data"
    }
   ],
   "source": [
    "#plotting qualitative variables from the elderly nutrion DA\n",
    "width = 0.35 #width of the bars\n",
    "x = [0, 0.8, 1.6] #distance between the bars\n",
    "situation_counts = nutri['situation']. value_counts()\n",
    "plt.bar(x, situation_counts, width, edgecolor = 'black')\n",
    "plt.xticks(x, situation_counts.index)\n",
    "plt.show()\n",
    "\n"
   ]
  },
  {
   "cell_type": "code",
   "execution_count": 4,
   "id": "838fdd4a",
   "metadata": {
    "execution": {
     "iopub.execute_input": "2022-05-26T11:21:52.896281Z",
     "iopub.status.busy": "2022-05-26T11:21:52.895669Z",
     "iopub.status.idle": "2022-05-26T11:21:53.045844Z",
     "shell.execute_reply": "2022-05-26T11:21:53.044871Z"
    },
    "papermill": {
     "duration": 0.156413,
     "end_time": "2022-05-26T11:21:53.048217",
     "exception": false,
     "start_time": "2022-05-26T11:21:52.891804",
     "status": "completed"
    },
    "tags": []
   },
   "outputs": [
    {
     "data": {
      "image/png": "[encoded data removed]",
      "text/plain": [
       "<Figure size 432x288 with 1 Axes>"
      ]
     },
     "metadata": {
      "needs_background": "light"
     },
     "output_type": "display_data"
    }
   ],
   "source": [
    "#plotting quatitative variables using a boxplot\n",
    "#the box plot can be used to check the distribution of data in the interquatile range, outliers are marked with a 'o'\n",
    "plt.boxplot(nutri['age'], widths=width, vert=False)\n",
    "plt.xlabel('age')\n",
    "plt.show()"
   ]
  },
  {
   "cell_type": "code",
   "execution_count": 5,
   "id": "a9817166",
   "metadata": {
    "execution": {
     "iopub.execute_input": "2022-05-26T11:21:53.057782Z",
     "iopub.status.busy": "2022-05-26T11:21:53.057030Z",
     "iopub.status.idle": "2022-05-26T11:21:53.252964Z",
     "shell.execute_reply": "2022-05-26T11:21:53.251932Z"
    },
    "papermill": {
     "duration": 0.204081,
     "end_time": "2022-05-26T11:21:53.255027",
     "exception": false,
     "start_time": "2022-05-26T11:21:53.050946",
     "status": "completed"
    },
    "tags": []
   },
   "outputs": [
    {
     "data": {
      "image/png": "[encoded data removed]",
      "text/plain": [
       "<Figure size 432x288 with 1 Axes>"
      ]
     },
     "metadata": {
      "needs_background": "light"
     },
     "output_type": "display_data"
    }
   ],
   "source": [
    "#histograms\n",
    "weights = np.ones_like(nutri.age)/nutri.age.count() #generating the proportion of ages in the total for each bin\n",
    "plt.hist(nutri.age, bins = 9, weights = weights, facecolor = 'cyan',\n",
    "        edgecolor = 'black', linewidth = 1)\n",
    "plt.xlabel('age')\n",
    "plt.ylabel('proportion of total')\n",
    "plt.show()"
   ]
  },
  {
   "cell_type": "code",
   "execution_count": 6,
   "id": "c7d680e8",
   "metadata": {
    "execution": {
     "iopub.execute_input": "2022-05-26T11:21:53.262546Z",
     "iopub.status.busy": "2022-05-26T11:21:53.262170Z",
     "iopub.status.idle": "2022-05-26T11:21:53.453571Z",
     "shell.execute_reply": "2022-05-26T11:21:53.452658Z"
    },
    "papermill": {
     "duration": 0.197679,
     "end_time": "2022-05-26T11:21:53.455703",
     "exception": false,
     "start_time": "2022-05-26T11:21:53.258024",
     "status": "completed"
    },
    "tags": []
   },
   "outputs": [
    {
     "data": {
      "image/png": "[encoded data removed]",
      "text/plain": [
       "<Figure size 432x288 with 1 Axes>"
      ]
     },
     "metadata": {
      "needs_background": "light"
     },
     "output_type": "display_data"
    }
   ],
   "source": [
    "#plotting bivariate data using seaborn\n",
    "Dict = {1:'Male', 2:'Female'}\n",
    "nutri['gender'] = nutri['gender'].replace(Dict).astype('category') #restructuring the data to get categorical variables 'male' and ' female'\n",
    "#actual plotting of data \n",
    "sns.countplot(x = 'situation', hue = 'gender', data = nutri,\n",
    "             hue_order = ['Male', 'Female'], palette = ['skyblue', 'pink'],\n",
    "             saturation = 1, edgecolor = 'black')\n",
    "plt.legend(loc = 'upper center')\n",
    "plt.xlabel('')\n",
    "plt.ylabel('counts')\n",
    "plt.show()"
   ]
  },
  {
   "cell_type": "code",
   "execution_count": 7,
   "id": "eca7a60f",
   "metadata": {
    "execution": {
     "iopub.execute_input": "2022-05-26T11:21:53.464324Z",
     "iopub.status.busy": "2022-05-26T11:21:53.463493Z",
     "iopub.status.idle": "2022-05-26T11:21:53.707327Z",
     "shell.execute_reply": "2022-05-26T11:21:53.706292Z"
    },
    "papermill": {
     "duration": 0.250801,
     "end_time": "2022-05-26T11:21:53.709759",
     "exception": false,
     "start_time": "2022-05-26T11:21:53.458958",
     "status": "completed"
    },
    "tags": []
   },
   "outputs": [
    {
     "name": "stderr",
     "output_type": "stream",
     "text": [
      "/opt/conda/lib/python3.7/site-packages/ipykernel_launcher.py:5: FutureWarning: In a future version of pandas all arguments of DataFrame.drop except for the argument 'labels' will be keyword-only\n",
      "  \"\"\"\n"
     ]
    },
    {
     "data": {
      "image/png": "[encoded data removed]",
      "text/plain": [
       "<Figure size 432x288 with 1 Axes>"
      ]
     },
     "metadata": {
      "needs_background": "light"
     },
     "output_type": "display_data"
    }
   ],
   "source": [
    "\"\"\"fitting a straight line through scatter plots of bivariate data\n",
    "the data is the birtweight dataset 'MASS/birthwt.csv' from r datasets 'https://vincentarelbundock.github.io/Rdatasets/csv/'\n",
    "the plot shows the mass of babies whose mothers and those who didn't\"\"\"\n",
    "bwt = pd.read_csv('../input/r-mass-datasets/birthwt.csv')\n",
    "bwt = bwt.drop('Unnamed: 0', 1) #deopping the unnamed column\n",
    "styles = {0 :['o', 'red'], 1:['^', 'blue']} #\n",
    "for k in styles:\n",
    "    grp = bwt[bwt.smoke == k]\n",
    "    m,b = np.polyfit(grp.age, grp.bwt, 1)\n",
    "    plt.scatter(grp.age, grp.bwt, c= styles[k][1], s=15, linewidth = 0,\n",
    "               marker = styles[k][0])\n",
    "    plt.plot(grp.age, m*grp.age  + b, '-', color = styles[k][1])\n",
    "plt.xlabel('age')\n",
    "plt.ylabel('birth weight (g)')\n",
    "plt.legend(['non-smokers', 'smokers'], prop = {'size': 8},\n",
    "          loc = (0.5, 0.8))\n",
    "plt.show()"
   ]
  }
 ],
 "metadata": {
  "kernelspec": {
   "display_name": "Python 3",
   "language": "python",
   "name": "python3"
  },
  "language_info": {
   "codemirror_mode": {
    "name": "ipython",
    "version": 3
   },
   "file_extension": ".py",
   "mimetype": "text/x-python",
   "name": "python",
   "nbconvert_exporter": "python",
   "pygments_lexer": "ipython3",
   "version": "3.7.12"
  },
  "papermill": {
   "default_parameters": {},
   "duration": 12.114812,
   "end_time": "2022-05-26T11:21:54.434429",
   "environment_variables": {},
   "exception": null,
   "input_path": "__notebook__.ipynb",
   "output_path": "__notebook__.ipynb",
   "parameters": {},
   "start_time": "2022-05-26T11:21:42.319617",
   "version": "2.3.4"
  }
 },
 "nbformat": 4,
 "nbformat_minor": 5
}
